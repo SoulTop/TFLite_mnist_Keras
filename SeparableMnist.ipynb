{
 "cells": [
  {
   "cell_type": "code",
   "execution_count": 1,
   "metadata": {},
   "outputs": [],
   "source": [
    "import math\n",
    "\n",
    "import tensorflow as tf\n",
    "from tensorflow import keras\n",
    "from tensorflow.keras.callbacks import LearningRateScheduler\n",
    "from tensorflow.keras.datasets import mnist\n",
    "from tensorflow.keras.initializers import Constant\n",
    "from tensorflow.keras.layers import Input, Conv2D, BatchNormalization, Activation, Dropout, Flatten, Dense\n",
    "from tensorflow.keras.models import Model\n",
    "from tensorflow.keras.utils import to_categorical"
   ]
  },
  {
   "cell_type": "markdown",
   "metadata": {},
   "source": [
    "## 创建输入数据"
   ]
  },
  {
   "cell_type": "code",
   "execution_count": 2,
   "metadata": {},
   "outputs": [],
   "source": [
    "NUM_CLASSES = 10"
   ]
  },
  {
   "cell_type": "code",
   "execution_count": 3,
   "metadata": {},
   "outputs": [
    {
     "name": "stdout",
     "output_type": "stream",
     "text": [
      "x_train.shape = (60000, 28, 28, 1), y_train.shape = (60000, 10)\n",
      "x_test.shape = (10000, 28, 28, 1), y_test.shape = (10000, 10)\n"
     ]
    }
   ],
   "source": [
    "(x_train, y_train), (x_test, y_test) = mnist.load_data(path='mnist.npz')\n",
    "\n",
    "x_train = x_train.reshape(x_train.shape[0], x_train.shape[1], x_train.shape[2], 1)\n",
    "x_test = x_test.reshape(x_test.shape[0], x_test.shape[1], x_test.shape[2], 1)\n",
    "\n",
    "x_train = x_train / 255.0\n",
    "x_test = x_test / 255.0\n",
    "\n",
    "y_train = to_categorical(y_train, NUM_CLASSES)\n",
    "y_test = to_categorical(y_test, NUM_CLASSES)\n",
    "\n",
    "print(\"x_train.shape = {}, y_train.shape = {}\".format(x_train.shape, y_train.shape))\n",
    "print(\"x_test.shape = {}, y_test.shape = {}\".format(x_test.shape, y_test.shape))"
   ]
  },
  {
   "cell_type": "markdown",
   "metadata": {},
   "source": [
    "## 定义网络"
   ]
  },
  {
   "cell_type": "code",
   "execution_count": 4,
   "metadata": {},
   "outputs": [],
   "source": [
    "inputs = Input(shape=(28, 28, 1), name='input')\n",
    "\n",
    "x = keras.layers.SeparableConv2D(24, kernel_size=(6, 6), strides=1)(inputs)\n",
    "x = BatchNormalization(scale=False, beta_initializer=Constant(0.01))(x)\n",
    "x = Activation('relu')(x)\n",
    "x = Dropout(rate=0.25)(x)\n",
    "\n",
    "x = keras.layers.SeparableConv2D(48, kernel_size=(5, 5), strides=2)(x)\n",
    "x = BatchNormalization(scale=False, beta_initializer=Constant(0.01))(x)\n",
    "x = Activation('relu')(x)\n",
    "x = Dropout(rate=0.25)(x)\n",
    "\n",
    "x = keras.layers.SeparableConv2D(64, kernel_size=(4, 4), strides=2)(x)\n",
    "x = BatchNormalization(scale=False, beta_initializer=Constant(0.01))(x)\n",
    "x = Activation('relu')(x)\n",
    "x = Dropout(rate=0.25)(x)\n",
    "\n",
    "x = Flatten()(x)\n",
    "x = Dense(200)(x)\n",
    "x = BatchNormalization(scale=False, beta_initializer=Constant(0.01))(x)\n",
    "x = Activation('relu')(x)\n",
    "x = Dropout(rate=0.25)(x)\n",
    "\n",
    "predications = Dense(NUM_CLASSES, activation='softmax', name='output')(x)\n",
    "\n",
    "model = Model(inputs=inputs, outputs=predications)\n",
    "model.compile(loss='categorical_crossentropy', optimizer='adam', metrics=['accuracy'])"
   ]
  },
  {
   "cell_type": "code",
   "execution_count": 5,
   "metadata": {},
   "outputs": [
    {
     "name": "stdout",
     "output_type": "stream",
     "text": [
      "Model: \"model\"\n",
      "_________________________________________________________________\n",
      "Layer (type)                 Output Shape              Param #   \n",
      "=================================================================\n",
      "input (InputLayer)           [(None, 28, 28, 1)]       0         \n",
      "_________________________________________________________________\n",
      "separable_conv2d (SeparableC (None, 23, 23, 24)        84        \n",
      "_________________________________________________________________\n",
      "batch_normalization (BatchNo (None, 23, 23, 24)        72        \n",
      "_________________________________________________________________\n",
      "activation (Activation)      (None, 23, 23, 24)        0         \n",
      "_________________________________________________________________\n",
      "dropout (Dropout)            (None, 23, 23, 24)        0         \n",
      "_________________________________________________________________\n",
      "separable_conv2d_1 (Separabl (None, 10, 10, 48)        1800      \n",
      "_________________________________________________________________\n",
      "batch_normalization_1 (Batch (None, 10, 10, 48)        144       \n",
      "_________________________________________________________________\n",
      "activation_1 (Activation)    (None, 10, 10, 48)        0         \n",
      "_________________________________________________________________\n",
      "dropout_1 (Dropout)          (None, 10, 10, 48)        0         \n",
      "_________________________________________________________________\n",
      "separable_conv2d_2 (Separabl (None, 4, 4, 64)          3904      \n",
      "_________________________________________________________________\n",
      "batch_normalization_2 (Batch (None, 4, 4, 64)          192       \n",
      "_________________________________________________________________\n",
      "activation_2 (Activation)    (None, 4, 4, 64)          0         \n",
      "_________________________________________________________________\n",
      "dropout_2 (Dropout)          (None, 4, 4, 64)          0         \n",
      "_________________________________________________________________\n",
      "flatten (Flatten)            (None, 1024)              0         \n",
      "_________________________________________________________________\n",
      "dense (Dense)                (None, 200)               205000    \n",
      "_________________________________________________________________\n",
      "batch_normalization_3 (Batch (None, 200)               600       \n",
      "_________________________________________________________________\n",
      "activation_3 (Activation)    (None, 200)               0         \n",
      "_________________________________________________________________\n",
      "dropout_3 (Dropout)          (None, 200)               0         \n",
      "_________________________________________________________________\n",
      "output (Dense)               (None, 10)                2010      \n",
      "=================================================================\n",
      "Total params: 213,806\n",
      "Trainable params: 213,134\n",
      "Non-trainable params: 672\n",
      "_________________________________________________________________\n"
     ]
    }
   ],
   "source": [
    "model.summary()"
   ]
  },
  {
   "cell_type": "code",
   "execution_count": 6,
   "metadata": {},
   "outputs": [
    {
     "name": "stdout",
     "output_type": "stream",
     "text": [
      "Train on 60000 samples, validate on 10000 samples\n",
      "\n",
      "Epoch 00001: LearningRateScheduler reducing learning rate to 0.0201.\n",
      "Epoch 1/20\n",
      "60000/60000 [==============================] - 15s 256us/sample - loss: 0.1990 - accuracy: 0.9377 - val_loss: 0.1646 - val_accuracy: 0.9541\n",
      "\n",
      "Epoch 00002: LearningRateScheduler reducing learning rate to 0.014430626211475785.\n",
      "Epoch 2/20\n",
      "60000/60000 [==============================] - 5s 76us/sample - loss: 0.0843 - accuracy: 0.9735 - val_loss: 0.0390 - val_accuracy: 0.9872\n",
      "\n",
      "Epoch 00003: LearningRateScheduler reducing learning rate to 0.01036834238065184.\n",
      "Epoch 3/20\n",
      "60000/60000 [==============================] - 5s 75us/sample - loss: 0.0634 - accuracy: 0.9808 - val_loss: 0.0286 - val_accuracy: 0.9899\n",
      "\n",
      "Epoch 00004: LearningRateScheduler reducing learning rate to 0.007457588823428847.\n",
      "Epoch 4/20\n",
      "60000/60000 [==============================] - 5s 76us/sample - loss: 0.0479 - accuracy: 0.9849 - val_loss: 0.0261 - val_accuracy: 0.9914\n",
      "\n",
      "Epoch 00005: LearningRateScheduler reducing learning rate to 0.005371942762314537.\n",
      "Epoch 5/20\n",
      "60000/60000 [==============================] - 5s 75us/sample - loss: 0.0419 - accuracy: 0.9864 - val_loss: 0.0303 - val_accuracy: 0.9902\n",
      "\n",
      "Epoch 00006: LearningRateScheduler reducing learning rate to 0.0038775120567512366.\n",
      "Epoch 6/20\n",
      "60000/60000 [==============================] - 5s 76us/sample - loss: 0.0353 - accuracy: 0.9882 - val_loss: 0.0242 - val_accuracy: 0.9922\n",
      "\n",
      "Epoch 00007: LearningRateScheduler reducing learning rate to 0.002806705664732254.\n",
      "Epoch 7/20\n",
      "60000/60000 [==============================] - 5s 75us/sample - loss: 0.0311 - accuracy: 0.9900 - val_loss: 0.0215 - val_accuracy: 0.9926\n",
      "\n",
      "Epoch 00008: LearningRateScheduler reducing learning rate to 0.002039439357288101.\n",
      "Epoch 8/20\n",
      "60000/60000 [==============================] - 5s 76us/sample - loss: 0.0297 - accuracy: 0.9906 - val_loss: 0.0181 - val_accuracy: 0.9941\n",
      "\n",
      "Epoch 00009: LearningRateScheduler reducing learning rate to 0.0014896690244560313.\n",
      "Epoch 9/20\n",
      "60000/60000 [==============================] - 5s 76us/sample - loss: 0.0265 - accuracy: 0.9915 - val_loss: 0.0191 - val_accuracy: 0.9937\n",
      "\n",
      "Epoch 00010: LearningRateScheduler reducing learning rate to 0.001095741367357279.\n",
      "Epoch 10/20\n",
      "60000/60000 [==============================] - 5s 76us/sample - loss: 0.0261 - accuracy: 0.9917 - val_loss: 0.0178 - val_accuracy: 0.9941\n",
      "\n",
      "Epoch 00011: LearningRateScheduler reducing learning rate to 0.000813479866945048.\n",
      "Epoch 11/20\n",
      "60000/60000 [==============================] - 5s 75us/sample - loss: 0.0245 - accuracy: 0.9921 - val_loss: 0.0179 - val_accuracy: 0.9945\n",
      "\n",
      "Epoch 00012: LearningRateScheduler reducing learning rate to 0.0006112306641301482.\n",
      "Epoch 12/20\n",
      "60000/60000 [==============================] - 5s 77us/sample - loss: 0.0217 - accuracy: 0.9929 - val_loss: 0.0179 - val_accuracy: 0.9936\n",
      "\n",
      "Epoch 00013: LearningRateScheduler reducing learning rate to 0.00046631277777468366.\n",
      "Epoch 13/20\n",
      "60000/60000 [==============================] - 5s 75us/sample - loss: 0.0210 - accuracy: 0.9932 - val_loss: 0.0180 - val_accuracy: 0.9943\n",
      "\n",
      "Epoch 00014: LearningRateScheduler reducing learning rate to 0.00036247457473881936.\n",
      "Epoch 14/20\n",
      "60000/60000 [==============================] - 5s 76us/sample - loss: 0.0206 - accuracy: 0.9931 - val_loss: 0.0176 - val_accuracy: 0.9939\n",
      "\n",
      "Epoch 00015: LearningRateScheduler reducing learning rate to 0.00028807125102990415.\n",
      "Epoch 15/20\n",
      "60000/60000 [==============================] - 5s 76us/sample - loss: 0.0201 - accuracy: 0.9934 - val_loss: 0.0182 - val_accuracy: 0.9940\n",
      "\n",
      "Epoch 00016: LearningRateScheduler reducing learning rate to 0.0002347589399817094.\n",
      "Epoch 16/20\n",
      "60000/60000 [==============================] - 5s 76us/sample - loss: 0.0205 - accuracy: 0.9933 - val_loss: 0.0179 - val_accuracy: 0.9944\n",
      "\n",
      "Epoch 00017: LearningRateScheduler reducing learning rate to 0.00019655899987662886.\n",
      "Epoch 17/20\n",
      "60000/60000 [==============================] - 5s 75us/sample - loss: 0.0205 - accuracy: 0.9930 - val_loss: 0.0176 - val_accuracy: 0.9943\n",
      "\n",
      "Epoch 00018: LearningRateScheduler reducing learning rate to 0.0001691875467292952.\n",
      "Epoch 18/20\n",
      "60000/60000 [==============================] - 5s 76us/sample - loss: 0.0205 - accuracy: 0.9935 - val_loss: 0.0178 - val_accuracy: 0.9941\n",
      "\n",
      "Epoch 00019: LearningRateScheduler reducing learning rate to 0.0001495750435333272.\n",
      "Epoch 19/20\n",
      "60000/60000 [==============================] - 5s 76us/sample - loss: 0.0206 - accuracy: 0.9933 - val_loss: 0.0180 - val_accuracy: 0.9942\n",
      "\n",
      "Epoch 00020: LearningRateScheduler reducing learning rate to 0.0001355220709146876.\n",
      "Epoch 20/20\n",
      "60000/60000 [==============================] - 5s 77us/sample - loss: 0.0186 - accuracy: 0.9938 - val_loss: 0.0178 - val_accuracy: 0.9942\n"
     ]
    }
   ],
   "source": [
    "lr_decay = lambda epoch: 0.0001 + 0.02 * math.pow(1.0 / math.e, epoch / 3.0)\n",
    "decay_callback = LearningRateScheduler(lr_decay, verbose=1)\n",
    "\n",
    "history = model.fit(x_train, y_train, batch_size=128, epochs=20, verbose=1, \n",
    "                    validation_data=(x_test, y_test), callbacks=[decay_callback])"
   ]
  },
  {
   "cell_type": "markdown",
   "metadata": {},
   "source": [
    "## 绘制 AUC 图"
   ]
  },
  {
   "cell_type": "code",
   "execution_count": 7,
   "metadata": {},
   "outputs": [
    {
     "data": {
      "image/png": "[encoded data removed]",
      "text/plain": [
       "<Figure size 432x288 with 1 Axes>"
      ]
     },
     "metadata": {
      "needs_background": "light"
     },
     "output_type": "display_data"
    }
   ],
   "source": [
    "import matplotlib.pyplot as plt\n",
    "plt.plot(history.history['accuracy'])\n",
    "plt.plot(history.history['val_accuracy'])\n",
    "plt.legend(['training', 'validation'], loc='upper left')\n",
    "plt.show()"
   ]
  },
  {
   "cell_type": "code",
   "execution_count": 8,
   "metadata": {},
   "outputs": [
    {
     "name": "stdout",
     "output_type": "stream",
     "text": [
      "[0.9377, 0.9734833, 0.98076665, 0.9849, 0.9863833, 0.9882333, 0.99, 0.9905667, 0.99151665, 0.9916667, 0.9921333, 0.99293333, 0.9932333, 0.9931, 0.99335, 0.9933, 0.99305, 0.9934833, 0.9933, 0.99376667] \n",
      "\n",
      "The Best train_AC is:  0.99376667\n"
     ]
    }
   ],
   "source": [
    "import numpy as np\n",
    "print(history.history['accuracy'], \"\\n\\nThe Best train_AC is: \", np.max(history.history['accuracy']))"
   ]
  },
  {
   "cell_type": "code",
   "execution_count": 10,
   "metadata": {
    "scrolled": true
   },
   "outputs": [
    {
     "name": "stdout",
     "output_type": "stream",
     "text": [
      "[0.9541, 0.9872, 0.9899, 0.9914, 0.9902, 0.9922, 0.9926, 0.9941, 0.9937, 0.9941, 0.9945, 0.9936, 0.9943, 0.9939, 0.994, 0.9944, 0.9943, 0.9941, 0.9942, 0.9942] \n",
      "\n",
      "The Best val_AC is:  0.9945\n"
     ]
    }
   ],
   "source": [
    "print(history.history['val_accuracy'], \"\\n\\nThe Best val_AC is: \", np.max(history.history['val_accuracy']))"
   ]
  },
  {
   "cell_type": "markdown",
   "metadata": {},
   "source": [
    "## 评估模型"
   ]
  },
  {
   "cell_type": "code",
   "execution_count": 13,
   "metadata": {},
   "outputs": [
    {
     "name": "stdout",
     "output_type": "stream",
     "text": [
      "10000/10000 [==============================] - 1s 125us/sample - loss: 0.0178 - accuracy: 0.9942\n",
      "Test loss: 0.017834317178014498\n",
      "Test accuracy: 0.9942\n"
     ]
    }
   ],
   "source": [
    "score = model.evaluate(x_test, y_test)\n",
    "print('Test loss:', score[0])\n",
    "print('Test accuracy:', score[1])"
   ]
  },
  {
   "cell_type": "markdown",
   "metadata": {},
   "source": [
    "## 保存模型原始模型"
   ]
  },
  {
   "cell_type": "code",
   "execution_count": 17,
   "metadata": {},
   "outputs": [
    {
     "name": "stdout",
     "output_type": "stream",
     "text": [
      "Saving model to...\n",
      "finish save\n"
     ]
    }
   ],
   "source": [
    "print('Saving model to...')\n",
    "model.save('SeparableMnist.h5')\n",
    "print('finish save')"
   ]
  },
  {
   "cell_type": "markdown",
   "metadata": {},
   "source": [
    "# 转换模型"
   ]
  },
  {
   "cell_type": "markdown",
   "metadata": {},
   "source": [
    "## 加载模型"
   ]
  },
  {
   "cell_type": "code",
   "execution_count": 18,
   "metadata": {},
   "outputs": [],
   "source": [
    "net = tf.keras.models.load_model('SeparableMnist.h5')"
   ]
  },
  {
   "cell_type": "markdown",
   "metadata": {},
   "source": [
    "## 转换模型"
   ]
  },
  {
   "cell_type": "code",
   "execution_count": 19,
   "metadata": {},
   "outputs": [
    {
     "data": {
      "text/plain": [
       "855268"
      ]
     },
     "execution_count": 19,
     "metadata": {},
     "output_type": "execute_result"
    }
   ],
   "source": [
    "converter = tf.lite.TFLiteConverter.from_keras_model(net)\n",
    "tflite_model = converter.convert()\n",
    "open('SeparableMnist.tflite', 'wb').write(tflite_model)"
   ]
  },
  {
   "cell_type": "code",
   "execution_count": null,
   "metadata": {},
   "outputs": [],
   "source": []
  }
 ],
 "metadata": {
  "kernelspec": {
   "display_name": "Python 3",
   "language": "python",
   "name": "python3"
  },
  "language_info": {
   "codemirror_mode": {
    "name": "ipython",
    "version": 3
   },
   "file_extension": ".py",
   "mimetype": "text/x-python",
   "name": "python",
   "nbconvert_exporter": "python",
   "pygments_lexer": "ipython3",
   "version": "3.7.7"
  }
 },
 "nbformat": 4,
 "nbformat_minor": 4
}
