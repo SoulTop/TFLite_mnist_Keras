{
 "cells": [
  {
   "cell_type": "code",
   "execution_count": 1,
   "metadata": {},
   "outputs": [],
   "source": [
    "import tensorflow as tf\n",
    "import numpy as np\n",
    "import matplotlib.pyplot as plt"
   ]
  },
  {
   "cell_type": "code",
   "execution_count": 2,
   "metadata": {},
   "outputs": [],
   "source": [
    "_ , (test_images, test_labels) = tf.keras.datasets.mnist.load_data()"
   ]
  },
  {
   "cell_type": "code",
   "execution_count": 3,
   "metadata": {},
   "outputs": [],
   "source": [
    "images, labels = tf.cast(test_images, tf.float32)/255.0, test_labels\n",
    "\n",
    "mnist_ds = tf.data.Dataset.from_tensor_slices((images, labels)).batch(1)"
   ]
  },
  {
   "cell_type": "code",
   "execution_count": 4,
   "metadata": {},
   "outputs": [
    {
     "name": "stdout",
     "output_type": "stream",
     "text": [
      "[{'name': 'Identity', 'index': 0, 'shape': array([ 1, 10]), 'dtype': <class 'numpy.float32'>, 'quantization': (0.0, 0)}] \n",
      " [{'name': 'input', 'index': 1, 'shape': array([ 1, 28, 28,  1]), 'dtype': <class 'numpy.float32'>, 'quantization': (0.0, 0)}]\n"
     ]
    }
   ],
   "source": [
    "interpreter = tf.lite.Interpreter(model_path='SeparableMnist.tflite')  #加载模型文件\n",
    "interpreter.allocate_tensors()  # 创建Tensor\n",
    "\n",
    "input_details = interpreter.get_input_details()  # 获取输入输出OP\n",
    "output_details = interpreter.get_output_details()\n",
    "print(str(output_details),'\\n',str(input_details))"
   ]
  },
  {
   "cell_type": "markdown",
   "metadata": {},
   "source": [
    "## 测试模型"
   ]
  },
  {
   "cell_type": "code",
   "execution_count": 5,
   "metadata": {},
   "outputs": [],
   "source": [
    "for img, label in mnist_ds:\n",
    "  break\n",
    "\n",
    "img = img[...,tf.newaxis]\n",
    "\n",
    "interpreter.set_tensor(interpreter.get_input_details()[0][\"index\"], img)\n",
    "interpreter.invoke()\n",
    "predictions = interpreter.get_tensor(\n",
    "    interpreter.get_output_details()[0][\"index\"])"
   ]
  },
  {
   "cell_type": "code",
   "execution_count": 6,
   "metadata": {},
   "outputs": [
    {
     "data": {
      "image/png": "[encoded data removed]",
      "text/plain": [
       "<Figure size 432x288 with 1 Axes>"
      ]
     },
     "metadata": {
      "needs_background": "light"
     },
     "output_type": "display_data"
    }
   ],
   "source": [
    "i0 = tf.reshape(img[0], [28,28])\n",
    "plt.imshow(i0)\n",
    "template = \"True:{true}, predicted:{predict}\"\n",
    "_ = plt.title(template.format(true= str(label[0].numpy()),\n",
    "                              predict=str(np.argmax(predictions[0]))))\n",
    "plt.grid(False)"
   ]
  },
  {
   "cell_type": "code",
   "execution_count": 7,
   "metadata": {},
   "outputs": [
    {
     "name": "stdout",
     "output_type": "stream",
     "text": [
      "<BatchDataset shapes: ((None, 28, 28), (None,)), types: (tf.float32, tf.uint8)>\n"
     ]
    }
   ],
   "source": [
    "print(mnist_ds)"
   ]
  },
  {
   "cell_type": "code",
   "execution_count": 8,
   "metadata": {},
   "outputs": [],
   "source": [
    "def eval_model(interpreter, mnist_ds):\n",
    "  total_seen = 0\n",
    "  num_correct = 0\n",
    "\n",
    "  input_index = interpreter.get_input_details()[0][\"index\"]\n",
    "  output_index = interpreter.get_output_details()[0][\"index\"]\n",
    "  for img, label in mnist_ds:\n",
    "    total_seen += 1\n",
    "    img = img[...,tf.newaxis]\n",
    "    interpreter.set_tensor(input_index, img)\n",
    "    interpreter.invoke()\n",
    "    predictions = interpreter.get_tensor(output_index)\n",
    "    if np.argmax(predictions) == label.numpy():\n",
    "      num_correct += 1\n",
    "\n",
    "    if total_seen % 500 == 0:\n",
    "      print(\"Accuracy after %i images: %f\" %\n",
    "            (total_seen, float(num_correct) / float(total_seen)))\n",
    "\n",
    "  return float(num_correct) / float(total_seen)"
   ]
  },
  {
   "cell_type": "code",
   "execution_count": 9,
   "metadata": {},
   "outputs": [
    {
     "name": "stdout",
     "output_type": "stream",
     "text": [
      "Accuracy after 500 images: 0.996000\n",
      "Accuracy after 1000 images: 0.993000\n",
      "Accuracy after 1500 images: 0.991333\n",
      "Accuracy after 2000 images: 0.991500\n",
      "Accuracy after 2500 images: 0.990000\n",
      "Accuracy after 3000 images: 0.990333\n",
      "Accuracy after 3500 images: 0.990571\n",
      "Accuracy after 4000 images: 0.990500\n",
      "Accuracy after 4500 images: 0.991333\n",
      "Accuracy after 5000 images: 0.991200\n",
      "Accuracy after 5500 images: 0.992000\n",
      "Accuracy after 6000 images: 0.992333\n",
      "Accuracy after 6500 images: 0.992923\n",
      "Accuracy after 7000 images: 0.992571\n",
      "Accuracy after 7500 images: 0.993067\n",
      "Accuracy after 8000 images: 0.993500\n",
      "Accuracy after 8500 images: 0.993765\n",
      "Accuracy after 9000 images: 0.993889\n",
      "Accuracy after 9500 images: 0.994211\n",
      "Accuracy after 10000 images: 0.994200\n"
     ]
    }
   ],
   "source": [
    "auc = eval_model(interpreter, mnist_ds)"
   ]
  },
  {
   "cell_type": "code",
   "execution_count": null,
   "metadata": {},
   "outputs": [],
   "source": []
  }
 ],
 "metadata": {
  "kernelspec": {
   "display_name": "Python 3",
   "language": "python",
   "name": "python3"
  },
  "language_info": {
   "codemirror_mode": {
    "name": "ipython",
    "version": 3
   },
   "file_extension": ".py",
   "mimetype": "text/x-python",
   "name": "python",
   "nbconvert_exporter": "python",
   "pygments_lexer": "ipython3",
   "version": "3.7.7"
  }
 },
 "nbformat": 4,
 "nbformat_minor": 4
}
